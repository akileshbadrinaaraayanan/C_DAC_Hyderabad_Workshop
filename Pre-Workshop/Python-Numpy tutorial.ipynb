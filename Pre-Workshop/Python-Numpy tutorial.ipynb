{
 "cells": [
  {
   "cell_type": "markdown",
   "metadata": {},
   "source": [
    "# Introduction to Numpy\n",
    "\n",
    "NumPy’s main object is the homogeneous multidimensional array. It is a table of elements (usually numbers), all of the same type, indexed by a tuple of positive integers. In Numpy dimensions are called axes. The number of axes is rank."
   ]
  },
  {
   "cell_type": "markdown",
   "metadata": {},
   "source": [
    "## 1. Numpy Basics\n",
    "### 1.1 Numpy Array\n",
    "Numpy’s array class is called ndarray. It is also known by the alias array. Lets create a dummy array of 'float' type, and print it."
   ]
  },
  {
   "cell_type": "code",
   "execution_count": 2,
   "metadata": {
    "collapsed": false
   },
   "outputs": [
    {
     "name": "stdout",
     "output_type": "stream",
     "text": [
      "[[ 1.  2.]\n",
      " [ 3.  4.]]\n"
     ]
    }
   ],
   "source": [
    "import numpy as np\n",
    "a=np.array([[1,2],[3,4]],dtype='float')\n",
    "\n",
    "# Print the array\n",
    "print(a)"
   ]
  },
  {
   "cell_type": "markdown",
   "metadata": {},
   "source": [
    "### 1.2 Basic Operations\n",
    "Following are some simple operations in numpy"
   ]
  },
  {
   "cell_type": "code",
   "execution_count": 11,
   "metadata": {
    "collapsed": false
   },
   "outputs": [
    {
     "name": "stdout",
     "output_type": "stream",
     "text": [
      "[0 1 2 3]\n",
      "[20 29 38 47]\n",
      "[0 1 4 9]\n",
      "[ 9.12945251 -9.88031624  7.4511316  -2.62374854]\n",
      "[ True  True False False]\n",
      "[  0  30  80 150]\n",
      "260\n"
     ]
    }
   ],
   "source": [
    "a = np.array( [20,30,40,50] )\n",
    "b = np.arange( 4 )\n",
    "print(b)\n",
    "\n",
    "# Subtraction\n",
    "c = a-b\n",
    "print(c)\n",
    "\n",
    "# Squaring\n",
    "print(b**2)\n",
    "\n",
    "# Sinusoid\n",
    "print(10*np.sin(a))\n",
    "\n",
    "# Logical\n",
    "print(a<35)\n",
    "\n",
    "# Element wise product\n",
    "print(a*b)\n",
    "\n",
    "# dot product\n",
    "print(np.dot(b,a))"
   ]
  },
  {
   "cell_type": "markdown",
   "metadata": {},
   "source": [
    "### 1.3 Indexing, Slicing and Iterating"
   ]
  },
  {
   "cell_type": "code",
   "execution_count": 12,
   "metadata": {
    "collapsed": false
   },
   "outputs": [
    {
     "name": "stdout",
     "output_type": "stream",
     "text": [
      "[  0   1   8  27  64 125 216 343 512 729]\n",
      "8\n",
      "[ 8 27 64]\n",
      "0.0\n",
      "1.0\n",
      "2.0\n",
      "3.0\n",
      "4.0\n",
      "5.0\n",
      "6.0\n",
      "7.0\n",
      "8.0\n",
      "9.0\n"
     ]
    }
   ],
   "source": [
    "a = np.arange(10)**3\n",
    "print(a)\n",
    "\n",
    "# Print an index\n",
    "print(a[2])\n",
    "\n",
    "# Print a slice\n",
    "print(a[2:5])\n",
    "\n",
    "# Looping\n",
    "for i in a:\n",
    "    print(i**(1/3.))"
   ]
  },
  {
   "cell_type": "markdown",
   "metadata": {},
   "source": [
    "### 1.4 Python functions"
   ]
  },
  {
   "cell_type": "code",
   "execution_count": 18,
   "metadata": {
    "collapsed": false
   },
   "outputs": [
    {
     "name": "stdout",
     "output_type": "stream",
     "text": [
      "YO, BHARAT, Jon Snow rocks!!!\n",
      "I dont know you, Udyan, go to hell!!!\n"
     ]
    }
   ],
   "source": [
    "def hello(name, likes_GOT=True):\n",
    "    if likes_GOT:\n",
    "        print 'YO, %s, Jon Snow rocks!!!' % name.upper()\n",
    "    else:\n",
    "        print 'I dont know you, %s, go to hell!!!' % name\n",
    "\n",
    "hello('Bharat') # Prints \"Hello, *name*\"\n",
    "hello('Udyan', likes_GOT=False)  # Prints \"HELLO, *name*!\""
   ]
  },
  {
   "cell_type": "markdown",
   "metadata": {},
   "source": [
    "### 1.5 Python classes"
   ]
  },
  {
   "cell_type": "code",
   "execution_count": 29,
   "metadata": {
    "collapsed": false
   },
   "outputs": [
    {
     "name": "stdout",
     "output_type": "stream",
     "text": [
      "YO, UDYAN, Told ya it was good.\n",
      "Udyan, you even real!!!\n"
     ]
    }
   ],
   "source": [
    "class Greeter(object):\n",
    "    \n",
    "    # Constructor\n",
    "    def __init__(self, name):\n",
    "        self.name = name  # Create an instance variable\n",
    "        \n",
    "    # Instance method\n",
    "    def greet(self, likes_GOT=True):\n",
    "        if likes_GOT:\n",
    "            print 'YO, %s, Told ya it was good.' % self.name.upper()\n",
    "        else:\n",
    "            print '%s, you even real!!!' % self.name\n",
    "        \n",
    "        \n",
    "g = Greeter('Udyan')  # Construct an instance of the Greeter class\n",
    "g.greet()            # Call an instance method; prints \"Hello, Fred\"\n",
    "g.greet(likes_GOT=False)   # Call an instance method; prints \"HELLO, FRED!\""
   ]
  },
  {
   "cell_type": "markdown",
   "metadata": {},
   "source": [
    "<b> Well I guess this should get you going.</b> But if you need anything just take a look at:\n",
    "\n",
    "Python: https://docs.python.org/3/tutorial/\n",
    "\n",
    "numpy : https://docs.scipy.org/doc/numpy-dev/user/quickstart.html"
   ]
  }
 ],
 "metadata": {
  "kernelspec": {
   "display_name": "Python 2",
   "language": "python",
   "name": "python2"
  },
  "language_info": {
   "codemirror_mode": {
    "name": "ipython",
    "version": 2
   },
   "file_extension": ".py",
   "mimetype": "text/x-python",
   "name": "python",
   "nbconvert_exporter": "python",
   "pygments_lexer": "ipython2",
   "version": "2.7.12"
  }
 },
 "nbformat": 4,
 "nbformat_minor": 0
}
